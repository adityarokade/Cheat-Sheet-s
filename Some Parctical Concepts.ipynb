{
 "cells": [
  {
   "cell_type": "markdown",
   "metadata": {},
   "source": [
    "# Parctical concepts-ml\n",
    "\n"
   ]
  },
  {
   "cell_type": "markdown",
   "metadata": {},
   "source": [
    "### Filling Numerical Missing value\n",
    "##### 1) Using Central Tendancy\n",
    "\n",
    "`df['Column_name'] = df['Column_name'].fillna(df['Column_name'].mean())`\n",
    "\n",
    "##### 2) Usign KNN\n",
    "\n",
    "`from sklearn.impute import KNNImputer`                                        \n",
    "`imputer=KNNImputer(n_neighbors=3)`                                \n",
    "`data=imputer.fit_transform(df)`                                    \n",
    "        \n",
    "\n",
    "##### 3) Using Random Forest\n",
    "\n",
    "`from missingy import missforest`                       \n",
    "`imputer = missforest()`                              \n",
    "`y.new = imputer.fit_transform(df[num])`                           \n",
    "\n",
    "    \n",
    "\n",
    "###### Num=[col for col in df.columns if  df[col].dtypes!='o']\n"
   ]
  },
  {
   "cell_type": "markdown",
   "metadata": {},
   "source": [
    "### Filling Categorical missins values\n",
    "\n",
    "##### 1)Using Most Frequent Element\n",
    "`from sklearn.impute import SimleImputer`                                     \n",
    "`imputer = SimpleImputer(strategy='most_frequent')`                                 \n",
    "`imputer.fit_trainsform(x)`\n",
    "##### 2) Using *constant* Value\n",
    "`form sklearn.impute import simpleImputer`                               \n",
    "`imputer = SimpleImputer(strategy='constant', fill_value=value_to_fill)`                           \n",
    "`imputer.fit_transform(x)`\n"
   ]
  },
  {
   "cell_type": "markdown",
   "metadata": {},
   "source": [
    "#### show missing values in column wise\n",
    "`missing = df[df.isnall().any(axis=1)]`"
   ]
  },
  {
   "cell_type": "markdown",
   "metadata": {},
   "source": [
    "### Drop Clumns\n",
    "```df.drop(columns=['Serial No.'],inplace=True)```\n",
    "\n",
    "\n",
    "### Drop NA Rows\n",
    "```df.dropna()```\n",
    "\n",
    "\n",
    "    0-rows whcih has na values                                 \n",
    "    1-columns which has missing valuesin their rows"
   ]
  },
  {
   "cell_type": "markdown",
   "metadata": {},
   "source": [
    "### Standred Scalar\n",
    "`from sklearn.preprocessing import StandardScaler\n",
    " scaler = StandardScaler()\n",
    " arr = scaler.fit_transform(x)`"
   ]
  },
  {
   "cell_type": "markdown",
   "metadata": {},
   "source": []
  },
  {
   "cell_type": "markdown",
   "metadata": {},
   "source": [
    "### #function to create adjusted R-Squared\n",
    "`def adj_r2(x,y):\n",
    "    r2 = lr.score(x,y)\n",
    "    n = x.shape[0]\n",
    "    p = x.shape[1]\n",
    "    adjusted_r2 = 1-(1-r2)*(n-1)/(n-p-1)\n",
    "    return adjusted_r2`"
   ]
  },
  {
   "cell_type": "markdown",
   "metadata": {},
   "source": [
    "### BoxPlot\n",
    "`import matlotlib.pyplot as plt\n",
    "fig = plt.figure(figsize=(10,7))\n",
    "plt.boxplot(df)\n",
    "plt.show()\n",
    "`\n",
    "\n",
    "### Remove Outliers\n",
    "`q = df['Pregnancies'].quantile(.98)\n",
    "df_new = df[df['Pregnancies'] < q\n",
    "q = df_new['Age'].quantile(.99)\n",
    "df_new = df_new[df_new['Age']< q]\n",
    "`"
   ]
  },
  {
   "cell_type": "markdown",
   "metadata": {},
   "source": [
    "###  Encoding\n",
    "##### 1) One hot encoding:-\n",
    "it convert the categorical variable into nominal intergers-0,1 & create the seperate column for each variable in column.                                                       \n",
    "`import pandas as pd\n",
    "pd.get_dumies(df.column)\n",
    "`\n",
    "##### 2) Label Encoding:-\n",
    "it is used to encode the target variable not the input variable.values between zero and number of classes-1            \n",
    "`from sklearn.preprocessing import LabelEncoder\n",
    "label_encoder=LabelEncoder()\n",
    "df['class'] = label_encoder.fit_transform(df['class'])\n",
    "`"
   ]
  },
  {
   "cell_type": "code",
   "execution_count": null,
   "metadata": {},
   "outputs": [],
   "source": []
  },
  {
   "cell_type": "code",
   "execution_count": null,
   "metadata": {},
   "outputs": [],
   "source": []
  },
  {
   "cell_type": "markdown",
   "metadata": {},
   "source": [
    "### Calculate corelation\n",
    "#### 1)Calculate VIF\n",
    "`from statsmodels.stats.outliers_influence import variance_inflation_factor\n",
    " vif_df = pd.DataFrame()\n",
    " vif_df['vif'] = [variance_inflation_factor(df,i) for i in range(df.shape[1])]\n",
    " vif_df['feature']  = x.columns\n",
    " vif_df`\n",
    " \n",
    "#### 2) corr function\n",
    "`import pandas as pd  \n",
    "import seaborn  \n",
    "correlation=df.corr()\n",
    "heatmap = seaborn. heatmap(correlation, annot = True) \n",
    "`"
   ]
  },
  {
   "cell_type": "markdown",
   "metadata": {},
   "source": [
    "### create the custom dataset\n",
    "`data = [['lynda', 10,'F',125,'5/21/2018'],['tom', np.nan,'M',135,'7/21/2018'], ['nick', 15,'F',99,'6/21/2018'], ['juli', 14,np.nan,120,'1/21/2018'],['juli', 19,np.nan,140,'10/21/2018'],['juli', 18,np.nan,170,'9/21/2018']]        \n",
    "df = pd.DataFrame(data, columns = ['Name', 'Age','Gender','Height','Date'])\n",
    "`"
   ]
  },
  {
   "cell_type": "markdown",
   "metadata": {},
   "source": [
    "### Seperate the dataset which has null values\n",
    "`import pandas as pd\n",
    "import numpy as np\n",
    "df=pd.read_csv(\"abc.csv\")\n",
    "df2=df[df['TV'].notnull()].drop('TV',axis=1)\n",
    "df3=df[df['TV'].isnull()].drop('TV',axis=1)\n",
    "`"
   ]
  },
  {
   "cell_type": "code",
   "execution_count": null,
   "metadata": {},
   "outputs": [],
   "source": []
  },
  {
   "cell_type": "code",
   "execution_count": null,
   "metadata": {},
   "outputs": [],
   "source": []
  },
  {
   "cell_type": "code",
   "execution_count": null,
   "metadata": {},
   "outputs": [],
   "source": []
  },
  {
   "cell_type": "code",
   "execution_count": null,
   "metadata": {},
   "outputs": [],
   "source": []
  },
  {
   "cell_type": "code",
   "execution_count": null,
   "metadata": {},
   "outputs": [],
   "source": []
  },
  {
   "cell_type": "code",
   "execution_count": null,
   "metadata": {},
   "outputs": [],
   "source": []
  },
  {
   "cell_type": "code",
   "execution_count": null,
   "metadata": {},
   "outputs": [],
   "source": []
  }
 ],
 "metadata": {
  "kernelspec": {
   "display_name": "Python 3",
   "language": "python",
   "name": "python3"
  },
  "language_info": {
   "codemirror_mode": {
    "name": "ipython",
    "version": 3
   },
   "file_extension": ".py",
   "mimetype": "text/x-python",
   "name": "python",
   "nbconvert_exporter": "python",
   "pygments_lexer": "ipython3",
   "version": "3.7.6"
  }
 },
 "nbformat": 4,
 "nbformat_minor": 4
}
