{
 "cells": [
  {
   "cell_type": "code",
   "execution_count": 2,
   "metadata": {},
   "outputs": [
    {
     "name": "stdout",
     "output_type": "stream",
     "text": [
      "2022\n",
      "False\n"
     ]
    }
   ],
   "source": [
    "def is_leap(year):\n",
    "    leap = False\n",
    "    if year%4==0:\n",
    "        leap=True\n",
    "        if year%100==0:\n",
    "            leap=False\n",
    "            if year%400==0:\n",
    "                leap=True\n",
    "        # leap=True\n",
    "    return leap\n",
    "year = int(input())\n",
    "print(is_leap(year))"
   ]
  },
  {
   "cell_type": "code",
   "execution_count": 5,
   "metadata": {},
   "outputs": [
    {
     "name": "stdout",
     "output_type": "stream",
     "text": [
      "0\n",
      "1\n",
      "1\n",
      "2\n",
      "3\n"
     ]
    }
   ],
   "source": [
    "# Fabionacci series\n",
    "\n",
    "\n",
    "def Fabionacci_series(n):\n",
    "    n1,n2=0,1\n",
    "    count=0\n",
    "    if n<=0 :\n",
    "        return \"Please Enter Valid Number\"\n",
    "    elif n==1:\n",
    "        return n\n",
    "    \n",
    "    else:\n",
    "        while count<n:\n",
    "            print(n1)\n",
    "            N=n1+n2\n",
    "\n",
    "            n1=n2\n",
    "            n2=N\n",
    "            \n",
    "            count+=1\n",
    "            \n",
    "        \n",
    "        \n",
    "Fabionacci_series(5)    "
   ]
  },
  {
   "cell_type": "code",
   "execution_count": 6,
   "metadata": {},
   "outputs": [
    {
     "name": "stdout",
     "output_type": "stream",
     "text": [
      "5\n",
      "[0, 1, 1, 8, 27]\n"
     ]
    }
   ],
   "source": [
    "cube = lambda x:x**3 # complete the lambda function \n",
    "\n",
    "def fibonacci(n):\n",
    "    n1,n2=0,1\n",
    "    count=0\n",
    "    N1=[]\n",
    "    if n<=0:\n",
    "        return N1\n",
    "    \n",
    "    elif n==1:\n",
    "        N1.append(n1)\n",
    "    else :\n",
    "        while count<n:\n",
    "            N1.append(n1)\n",
    "            N=n1+n2\n",
    "            n1=n2\n",
    "            n2=N\n",
    "            count+=1\n",
    "    return N1\n",
    "\n",
    "\n",
    "if __name__ == '__main__':\n",
    "    n = int(input())\n",
    "    print(list(map(cube, fibonacci(n))))"
   ]
  },
  {
   "cell_type": "code",
   "execution_count": null,
   "metadata": {},
   "outputs": [],
   "source": [
    "import re\n",
    "\n",
    "# Make a regular expression\n",
    "# for validating an Email\n",
    "regex = r'\\b[A-Za-z0-9._%+-]+@[A-Za-z0-9.-]+\\.[A-Z|a-z]{2,}\\b'\n",
    "\n",
    "# Define a function for\n",
    "# for validating an Email\n",
    "def check(email):\n",
    "\n",
    "\t# pass the regular expression\n",
    "\t# and the string into the fullmatch() method\n",
    "\tif(re.fullmatch(regex, email)):\n",
    "\t\tprint(\"Valid Email\")\n",
    "\n",
    "\telse:\n",
    "\t\tprint(\"Invalid Email\")\n",
    "\n",
    "# Driver Code\n",
    "if __name__ == '__main__':\n",
    "\n",
    "\t# Enter the email\n",
    "\temail = \"ankitrai326@gmail.com\"\n",
    "\n",
    "\t# calling run function\n",
    "\tcheck(email)\n",
    "\n",
    "\temail = \"my.ownsite@our-earth.org\"\n",
    "\tcheck(email)\n",
    "\n",
    "\temail = \"ankitrai326.com\"\n",
    "\tcheck(email)\n"
   ]
  },
  {
   "cell_type": "code",
   "execution_count": null,
   "metadata": {},
   "outputs": [],
   "source": [
    "r'\\b[A-Za-z0-9._%+-]+@[A-Za-z0-9.-]+\\.[A-Z|a-z]{3,}\\b'"
   ]
  },
  {
   "cell_type": "code",
   "execution_count": null,
   "metadata": {},
   "outputs": [],
   "source": [
    "4-\n",
    "5\n",
    "its@gmail.com1\n",
    "mike13445@yahoomail9.server\n",
    "rase23@ha_ch.com\n",
    "daniyal@gmail.coma\n",
    "thatisit@thatisit\n",
    "\n",
    "0-\n",
    "3\n",
    "lara@hackerrank.com\n",
    "brian-23@hackerrank.com\n",
    "britts_54@hackerrank.com\n",
    "\n",
    "\n",
    "\n",
    "2-\n",
    "5\n",
    "dheeraj-234@gmail.com\n",
    "itsallcrap\n",
    "harsh_1234@rediff.in\n",
    "kunal_shin@iop.az\n",
    "matt23@@india.in"
   ]
  },
  {
   "cell_type": "code",
   "execution_count": null,
   "metadata": {},
   "outputs": [],
   "source": [
    "import re\n",
    "def fun(s):\n",
    "    \n",
    "    regex=r'\\b[A-Za-z0-9_-]+@[A-Za-z0-9]+\\.[A-Za-z]{2,3}\\b'\n",
    "    if (re.fullmatch(regex,s)):\n",
    "        valid=True\n",
    "    else:\n",
    "        valid=False\n",
    "    \n",
    "        \n",
    "    return valid\n",
    "    \n",
    "\n",
    "    \n",
    "    \n",
    "    \n",
    "    \n",
    "def filter_mail(emails):\n",
    "    return list(filter(fun, emails))\n",
    "\n",
    "if __name__ == '__main__':\n",
    "    n = int(input())\n",
    "    emails = []\n",
    "    for _ in range(n):\n",
    "        emails.append(input())\n",
    "\n",
    "filtered_emails = filter_mail(emails)\n",
    "filtered_emails.sort()\n",
    "print(filtered_emails)"
   ]
  },
  {
   "cell_type": "code",
   "execution_count": null,
   "metadata": {},
   "outputs": [],
   "source": [
    "from fractions import Fraction\n",
    "from functools import reduce\n",
    "\n",
    "def product(fracs):\n",
    "    # t = # complete this line with a reduce statement\n",
    "    t = reduce(lambda x, y : x * y,[*fracs])\n",
    "    return t.numerator, t.denominator\n",
    "\n",
    "if __name__ == '__main__':\n",
    "    fracs = []\n",
    "    for _ in range(int(input())):\n",
    "        fracs.append(Fraction(*map(int, input().split())))\n",
    "    result = product(fracs)\n",
    "    print(*result)"
   ]
  },
  {
   "cell_type": "code",
   "execution_count": null,
   "metadata": {},
   "outputs": [],
   "source": []
  },
  {
   "cell_type": "code",
   "execution_count": null,
   "metadata": {},
   "outputs": [],
   "source": []
  },
  {
   "cell_type": "code",
   "execution_count": null,
   "metadata": {},
   "outputs": [],
   "source": []
  },
  {
   "cell_type": "code",
   "execution_count": null,
   "metadata": {},
   "outputs": [],
   "source": []
  },
  {
   "cell_type": "code",
   "execution_count": null,
   "metadata": {},
   "outputs": [],
   "source": []
  },
  {
   "cell_type": "code",
   "execution_count": null,
   "metadata": {},
   "outputs": [],
   "source": []
  },
  {
   "cell_type": "code",
   "execution_count": null,
   "metadata": {},
   "outputs": [],
   "source": []
  },
  {
   "cell_type": "code",
   "execution_count": null,
   "metadata": {},
   "outputs": [],
   "source": []
  },
  {
   "cell_type": "code",
   "execution_count": null,
   "metadata": {},
   "outputs": [],
   "source": []
  },
  {
   "cell_type": "code",
   "execution_count": null,
   "metadata": {},
   "outputs": [],
   "source": []
  }
 ],
 "metadata": {
  "kernelspec": {
   "display_name": "Python 3",
   "language": "python",
   "name": "python3"
  },
  "language_info": {
   "codemirror_mode": {
    "name": "ipython",
    "version": 3
   },
   "file_extension": ".py",
   "mimetype": "text/x-python",
   "name": "python",
   "nbconvert_exporter": "python",
   "pygments_lexer": "ipython3",
   "version": "3.7.6"
  }
 },
 "nbformat": 4,
 "nbformat_minor": 4
}
