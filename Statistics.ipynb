{
 "cells": [
  {
   "cell_type": "markdown",
   "metadata": {},
   "source": [
    "# statistics  \n",
    "## 1) Descriptive \n",
    "Analyzing,Exploring,Visualizing,Organizing the Data\n"
   ]
  },
  {
   "cell_type": "markdown",
   "metadata": {},
   "source": [
    "Population => N      \n",
    "Sample => n\n"
   ]
  },
  {
   "cell_type": "markdown",
   "metadata": {},
   "source": [
    "Sample -> some  sample of data from whole data     \n",
    "population -> the whole data "
   ]
  },
  {
   "cell_type": "markdown",
   "metadata": {},
   "source": [
    "#### Sampling Methods:--       \n",
    "1)Random Sampling- select randomily                         \n",
    "2)Statified Sampling - population is devided in strats(subgroups).eg based on gender male,female               \n",
    "3)Systamatic Sampling -                               \n",
    "4)clustering Sampling                  \n",
    "                    "
   ]
  },
  {
   "cell_type": "markdown",
   "metadata": {},
   "source": [
    "#### Measure Of Central Tendency     \n",
    "-- Single value as a representative of an entire destribution           \n",
    "i)mean ---avg               \n",
    "ii)median --- middle element after sorting           \n",
    "iii)Mode ---most frequent element       "
   ]
  },
  {
   "cell_type": "markdown",
   "metadata": {},
   "source": [
    "#### Random Variables- \n",
    "--The variables whose values is depend on outcome of a ramdom phenomenon.\n",
    "\n",
    "i) quantitative variables---\n",
    "         - discreate quantitative variable\n",
    "         - contineous quantitative variable\n",
    "ii) qualitative variables---\n",
    "         - Nominal qualitative variables\n",
    "         - Ordinal qualitative variables"
   ]
  },
  {
   "cell_type": "markdown",
   "metadata": {},
   "source": [
    "#### Measure Of Dispersion---\n",
    "i)Variance--Measure Of Spread          \n",
    "ii)Standard Deviation--helps us to find how a element is away from the mean.\n",
    "\n",
    "Sample Mean($\\bar{x}$)={(1/n)$\\sum$ Xi}      \n",
    "\n",
    "Population Mean(u)={(1/N)$\\sum$ Xi}\n",
    "\n",
    "\n",
    "\n",
    "Population Variance($\\sigma^{2}$)=$\\sum^{N}$ (Xi-u) / N\n",
    "\n",
    "Sample Variance ($\\sigma^{2}$) =$\\sum^{n}$ (Xi-$\\bar{x}$) / n-1       \n",
    "here (n-1) is a Bessnel Correction--- to correct the bias estimation we use (n-1)\n",
    "\n",
    "standred deviation($\\sigma$)=$\\sqrt{V}$"
   ]
  },
  {
   "cell_type": "markdown",
   "metadata": {},
   "source": [
    "##### Standardization -\n",
    "-- It is a process in which convert the skewed data into standred normal distribution, where mean is 0 and standred deviation is 1\n",
    "\n",
    "##### Normalization -\n",
    "-- It is process in which convert the skewed data into scale of 0 to 1\n",
    "\n",
    "\n",
    "##### Z-Score :- (Xi-u)/$\\sigma$        \n",
    "Z score is used to convert the skewed data into the standardization\n",
    "\n",
    "###### Left Skewed data:-\n",
    "Mean < Median < Mode\n",
    "###### Right Skewed data:-\n",
    "Mean > Median > Mode"
   ]
  },
  {
   "cell_type": "markdown",
   "metadata": {},
   "source": [
    "#### Probability:---\n",
    "\n",
    "Mutual exclusive event- not occure both at same time\n",
    "\n",
    "\n",
    "Permutation:- $P^{n}_{r}$ = (n!) / (n-r)!            -order\n",
    "\n",
    "Combination :- $C^{n}_{r}$ = (n!) / r!(n-r)!       - order not factor,Not multiple permutations"
   ]
  },
  {
   "cell_type": "markdown",
   "metadata": {},
   "source": [
    "#### 5 Number Summary:-\n",
    "1) Minimun      \n",
    "2) First Quartile(25%)        \n",
    "3) Midian        \n",
    "4) Third Quartile(75%)         \n",
    "5) Maximum     \n",
    "\n",
    "\n",
    "Precentile of value x=[(no of values below x)/n]*100\n",
    "\n",
    "value=[(percentile)/100]*(n+1)"
   ]
  },
  {
   "cell_type": "markdown",
   "metadata": {},
   "source": [
    "#### Removing Outliers--\n",
    "[Lower frence  -  Higher frence]\n",
    "\n",
    "Lower=> Q1 - 1.5(IQR)            \n",
    "Upper=> Q3 + 1.5(IQR)\n",
    "  \n",
    "Q1--25%    \n",
    "Q3--75%   \n",
    "IQR=Q3 - Q1\n",
    "\n",
    "First we need to sort the data in assending order.\n",
    "\n",
    "eg.Q1= [(25)/100] * 17(n+1) == 4.25 ---> 4th position of dataset"
   ]
  },
  {
   "cell_type": "markdown",
   "metadata": {},
   "source": [
    "#### Covariance-\n",
    "- Measure the direction of relationship between two variables.   \n",
    "cov(x,y)=$\\sum$ [(x-$\\bar{x}$) * (y-$\\bar{y}$)]/(N-1)\n",
    "\n",
    "\n",
    "#### pearson's corelation :-\n",
    "measure the strength of linear relationship           \n",
    "it is used to restrict the covariance up to [-1 to +1]           \n",
    "-1 >>> -ve linear relation\n",
    "+1 >>> +ve linear relation\n",
    "0  >>> no linear relation\n",
    "\n",
    "#### Spearman's rank corelation :-\n",
    "Measure the degree of association between two ranked variables\n",
    "\n",
    "first rank goes to higher value\n",
    "\n"
   ]
  },
  {
   "cell_type": "markdown",
   "metadata": {},
   "source": [
    "#### Central Limit Therom:-          \n",
    "Random variable x may or may not belong to GD(Gaussian distribution) but if we take means then it will belong to GD with (u,$\\sigma^{2}$/n)\n"
   ]
  },
  {
   "cell_type": "markdown",
   "metadata": {},
   "source": [
    "\n",
    "## 2) Infrential\n",
    "Sample Data => experiments on data(hypothesis testing) => conclusion  => Apply on population Data"
   ]
  },
  {
   "cell_type": "markdown",
   "metadata": {},
   "source": [
    "#### Steps of Hypothesis testing:  \n",
    "- It is used to come up with some meaning full conclusion from data                       \n",
    "1) Define Null Hypothesis               \n",
    "2) Define Alternative Hypothesis          \n",
    "3) Experiment             \n",
    "4) Accept or Reject the null hypothesis\n",
    "\n",
    "\n",
    "\n",
    "Type I Error :== occurs if an investigator rejects a null hypothesis that is actually true in the population;          \n",
    "\n",
    "Type II Error :== occurs if the investigator fails to reject a null hypothesis that is actually false in the population."
   ]
  },
  {
   "cell_type": "markdown",
   "metadata": {},
   "source": [
    "##### P-Value -\n",
    "-- the probability of obtaining the result at least as extreme as observed result.        \n",
    "eg- example of space button of keyboard ,we press at middle more than corenrs.             \n",
    "if value of p in less than 0.5 then we reject the H0\n",
    "\n",
    "##### Point estimate -\n",
    "-- the value of any static that estimates the value of parameter.            \n",
    "(if we calculate the sample mean ($\\bar{x}$) it may be equal to population mean(u))\n",
    "\n",
    "By using point estimate and some CI(confidance interval) we can calculate the range of population data.\n",
    "\n",
    "\n",
    "A confidence interval is the mean of your estimate plus and minus the variation in that estimate. \n",
    "CI= Point Estimate +- Margine of error\n"
   ]
  },
  {
   "cell_type": "markdown",
   "metadata": {},
   "source": [
    "##### CI=$\\bar{x}$ +- $Z_{\\alpha /2}$ * $\\sigma$ / $\\sqrt{n}$               \n",
    "if population $\\sigma$ is given then use Z test or n>30\n",
    "\n",
    "##### CI=$\\bar{x}$ +- $T_{\\alpha /2}$ * $\\sigma$ / $\\sqrt{n}$              \n",
    "when Population $\\sigma$ not given then t test is use"
   ]
  },
  {
   "cell_type": "markdown",
   "metadata": {},
   "source": [
    "#### Statistical Test:-                    \n",
    "1)Z test                  (Comparison of mean)        \n",
    "2)T test                  (Comparison of mean)         \n",
    "3)F test                  (Comparison of variance)         \n",
    "4)Anova test              (Analysis of variance)                 \n",
    "5)Chi-square test         (Comparison between 2 categorical variable)"
   ]
  },
  {
   "cell_type": "markdown",
   "metadata": {},
   "source": [
    "##### PDF-\n",
    "-- Probability Density Function=> Contineous Function          \n",
    " It is non negative for all the possible values.The area between the density curve and horizantal y axis is equal to 1.\n",
    " it shows a bell curve and all the values are bellow bell curve.\n",
    " Formula--P(a ≤ X ≤ b) = P(a < X ≤ b) = P(a ≤ X < b) = P(a < X < b).\n",
    " \n",
    "##### PMF-\n",
    "-- Probability Mass Function=> discreate| Fixed number of value [Either 0 or 1]          \n",
    " Let X be the random variable that shows how many heads are obtained.                             \n",
    " It shows S curve"
   ]
  },
  {
   "cell_type": "markdown",
   "metadata": {},
   "source": [
    "#### Bernoulli destribution :-             \n",
    "there are only two outcomes [0 or 1 ],      \n",
    "where p in probability of sucess and (1-p) is probability of failure"
   ]
  },
  {
   "cell_type": "markdown",
   "metadata": {},
   "source": [
    "#### Binomial Destribution --     \n",
    "An Experiment is a binomial experiment if -                                \n",
    "1) It is Repeated for fixed number of time                             \n",
    "2) The trials are independent                                   \n",
    "3) Trials have 2 mutually exclusive outcomes either sucess of failure                        \n",
    "4) The probability of sucess is same for all trials.\n",
    "\n",
    "mean= $\\sum_{i=1}^{n}$ x.p(x)       \n",
    "Variance=p(1-p)=pq\n"
   ]
  },
  {
   "cell_type": "markdown",
   "metadata": {},
   "source": [
    "#### Power Law--            \n",
    "80%-20% rule\n",
    "\n",
    "Bell Curve/GD\n",
    "\n",
    "After performing the BoxCox transform function the data shows a GD\n",
    "\n",
    "A power law is a relationship between two quartiles where ,A relative change in one quantity results in population change in other quantity.\n",
    "\n",
    "80% scales are coming from 20% of overall product"
   ]
  },
  {
   "cell_type": "markdown",
   "metadata": {},
   "source": [
    "#### Chi-Square Test --- it is non parametric test that is performed on categrical data"
   ]
  },
  {
   "cell_type": "markdown",
   "metadata": {},
   "source": [
    "#### ANOVA test ---(Analysis of Variance)"
   ]
  },
  {
   "cell_type": "code",
   "execution_count": null,
   "metadata": {},
   "outputs": [],
   "source": []
  }
 ],
 "metadata": {
  "kernelspec": {
   "display_name": "Python 3",
   "language": "python",
   "name": "python3"
  },
  "language_info": {
   "codemirror_mode": {
    "name": "ipython",
    "version": 3
   },
   "file_extension": ".py",
   "mimetype": "text/x-python",
   "name": "python",
   "nbconvert_exporter": "python",
   "pygments_lexer": "ipython3",
   "version": "3.7.6"
  }
 },
 "nbformat": 4,
 "nbformat_minor": 4
}
